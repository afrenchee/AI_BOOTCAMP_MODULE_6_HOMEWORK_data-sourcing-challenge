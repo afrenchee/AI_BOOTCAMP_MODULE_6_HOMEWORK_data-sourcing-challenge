{
 "cells": [
  {
   "cell_type": "markdown",
   "metadata": {},
   "source": [
    "### Import Required Libraries and Set Up Environment Variables"
   ]
  },
  {
   "cell_type": "code",
   "execution_count": 178,
   "metadata": {},
   "outputs": [],
   "source": [
    "# Dependencies\n",
    "import requests\n",
    "import time\n",
    "from dotenv import load_dotenv\n",
    "import os\n",
    "import pandas as pd\n",
    "import json\n",
    "from datetime import datetime\n",
    "\n",
    "# Load the NASA_API_KEY from the .env file\n",
    "load_dotenv()\n",
    "NASA_API_KEY = os.getenv('NASA_API_KEY')\n",
    "\n",
    "# Check if the API key was loaded\n",
    "if not NASA_API_KEY:\n",
    "    raise ValueError(\"NASA_API_KEY not found. Please ensure it's set in the .env file.\")"
   ]
  },
  {
   "cell_type": "markdown",
   "metadata": {},
   "source": [
    "### CME Data"
   ]
  },
  {
   "cell_type": "code",
   "execution_count": 180,
   "metadata": {},
   "outputs": [
    {
     "name": "stdout",
     "output_type": "stream",
     "text": [
      "Querying NASA API using URL: https://api.nasa.gov/DONKI/CME?startDate=2013-05-01&endDate=2024-05-01&api_key=CNkOx0yP9t09Nnqlvs1hGlV85FnIaa3W0hqe4JF2\n"
     ]
    }
   ],
   "source": [
    "# Set the base URL to NASA's DONKI API:\n",
    "base_url = \"https://api.nasa.gov/DONKI/\"\n",
    "\n",
    "# Set the specifier for CMEs:\n",
    "specifier = \"CME\"\n",
    "\n",
    "# Search for CMEs published between a begin and end date\n",
    "startDate = \"2013-05-01\"\n",
    "endDate = \"2024-05-01\"\n",
    "\n",
    "# Build the full query URL for CME\n",
    "query_url_CME = f\"{base_url}{specifier}?startDate={startDate}&endDate={endDate}&api_key={NASA_API_KEY}\"\n",
    "\n",
    "# Print the constructed URL for verification (optional)\n",
    "print(\"Querying NASA API using URL:\", query_url_CME)"
   ]
  },
  {
   "cell_type": "code",
   "execution_count": 182,
   "metadata": {},
   "outputs": [
    {
     "name": "stdout",
     "output_type": "stream",
     "text": [
      "{\n",
      "    \"activityID\": \"2013-05-01T03:12:00-CME-001\",\n",
      "    \"catalog\": \"M2M_CATALOG\",\n",
      "    \"startTime\": \"2013-05-01T03:12Z\",\n",
      "    \"instruments\": [\n",
      "        {\n",
      "            \"displayName\": \"SOHO: LASCO/C2\"\n",
      "        },\n",
      "        {\n",
      "            \"displayName\": \"SOHO: LASCO/C3\"\n",
      "        },\n",
      "        {\n",
      "            \"displayName\": \"STEREO A: SECCHI/COR2\"\n",
      "        },\n",
      "        {\n",
      "            \"displayName\": \"STEREO B: SECCHI/COR2\"\n",
      "        }\n",
      "    ],\n",
      "    \"sourceLocation\": \"\",\n",
      "    \"activeRegionNum\": null,\n",
      "    \"note\": \"\",\n",
      "    \"submissionTime\": \"2013-08-07T16:54Z\",\n",
      "    \"versionId\": 1,\n",
      "    \"link\": \"https://webtools.ccmc.gsfc.nasa.gov/DONKI/view/CME/2349/-1\",\n",
      "    \"cmeAnalyses\": [\n",
      "        {\n",
      "            \"isMostAccurate\": true,\n",
      "            \"time21_5\": \"2013-05-01T07:07Z\",\n",
      "            \"latitude\": 12.0,\n",
      "            \"longitude\": -120.0,\n",
      "            \"halfAngle\": 36.0,\n",
      "            \"speed\": 860.0,\n",
      "            \"type\": \"C\",\n",
      "            \"featureCode\": \"null\",\n",
      "            \"imageType\": null,\n",
      "            \"measurementTechnique\": \"null\",\n",
      "            \"note\": \"\",\n",
      "            \"levelOfData\": 0,\n",
      "            \"tilt\": null,\n",
      "            \"minorHalfWidth\": null,\n",
      "            \"speedMeasuredAtHeight\": null,\n",
      "            \"submissionTime\": \"2013-08-07T16:54Z\",\n",
      "            \"link\": \"https://webtools.ccmc.gsfc.nasa.gov/DONKI/view/CMEAnalysis/2350/-1\",\n",
      "            \"enlilList\": [\n",
      "                {\n",
      "                    \"modelCompletionTime\": \"2013-05-01T08:32Z\",\n",
      "                    \"au\": 2.0,\n",
      "                    \"estimatedShockArrivalTime\": null,\n",
      "                    \"estimatedDuration\": null,\n",
      "                    \"rmin_re\": null,\n",
      "                    \"kp_18\": null,\n",
      "                    \"kp_90\": null,\n",
      "                    \"kp_135\": null,\n",
      "                    \"kp_180\": null,\n",
      "                    \"isEarthGB\": false,\n",
      "                    \"link\": \"https://webtools.ccmc.gsfc.nasa.gov/DONKI/view/WSA-ENLIL/2348/-1\",\n",
      "                    \"impactList\": [\n",
      "                        {\n",
      "                            \"isGlancingBlow\": false,\n",
      "                            \"location\": \"STEREO B\",\n",
      "                            \"arrivalTime\": \"2013-05-04T06:16Z\"\n",
      "                        }\n",
      "                    ],\n",
      "                    \"cmeIDs\": [\n",
      "                        \"2013-05-01T03:12:00-CME-001\"\n",
      "                    ]\n",
      "                }\n",
      "            ]\n",
      "        }\n",
      "    ],\n",
      "    \"linkedEvents\": [\n",
      "        {\n",
      "            \"activityID\": \"2013-05-04T04:52:00-IPS-001\"\n",
      "        }\n",
      "    ]\n",
      "}\n"
     ]
    }
   ],
   "source": [
    "# Make the GET request to NASA API\n",
    "cme_response = requests.get(query_url_CME)\n",
    "\n",
    "# Check if the request was successful\n",
    "if cme_response.status_code == 200:\n",
    "    # Parse the response as JSON\n",
    "    cme_data = cme_response.json()\n",
    "    # Print the first CME entry in a nicely formatted way\n",
    "    if len(cme_data) > 0:\n",
    "        print(json.dumps(cme_data[0], indent=4))\n",
    "    else:\n",
    "        print(\"No CME data found for the given date range.\")\n",
    "else:\n",
    "    print(f\"Failed to retrieve data. HTTP Status code: {cme_response.status_code}\")\n"
   ]
  },
  {
   "cell_type": "code",
   "execution_count": 184,
   "metadata": {},
   "outputs": [
    {
     "name": "stdout",
     "output_type": "stream",
     "text": [
      "[\n",
      "    {\n",
      "        \"activityID\": \"2013-05-01T03:12:00-CME-001\",\n",
      "        \"catalog\": \"M2M_CATALOG\",\n",
      "        \"startTime\": \"2013-05-01T03:12Z\",\n",
      "        \"instruments\": [\n",
      "            {\n",
      "                \"displayName\": \"SOHO: LASCO/C2\"\n",
      "            },\n",
      "            {\n",
      "                \"displayName\": \"SOHO: LASCO/C3\"\n",
      "            },\n",
      "            {\n",
      "                \"displayName\": \"STEREO A: SECCHI/COR2\"\n",
      "            },\n",
      "            {\n",
      "                \"displayName\": \"STEREO B: SECCHI/COR2\"\n",
      "            }\n",
      "        ],\n",
      "        \"sourceLocation\": \"\",\n",
      "        \"activeRegionNum\": null,\n",
      "        \"note\": \"\",\n",
      "        \"submissionTime\": \"2013-08-07T16:54Z\",\n",
      "        \"versionId\": 1,\n",
      "        \"link\": \"https://webtools.ccmc.gsfc.nasa.gov/DONKI/view/CME/2349/-1\",\n",
      "        \"cmeAnalyses\": [\n",
      "            {\n",
      "                \"isMostAccurate\": true,\n",
      "                \"time21_5\": \"2013-05-01T07:07Z\",\n",
      "                \"latitude\": 12.0,\n",
      "                \"longitude\": -120.0,\n",
      "                \"halfAngle\": 36.0,\n",
      "                \"speed\": 860.0,\n",
      "                \"type\": \"C\",\n",
      "                \"featureCode\": \"null\",\n",
      "                \"imageType\": null,\n",
      "                \"measurementTechnique\": \"null\",\n",
      "                \"note\": \"\",\n",
      "                \"levelOfData\": 0,\n",
      "                \"tilt\": null,\n",
      "                \"minorHalfWidth\": null,\n",
      "                \"speedMeasuredAtHeight\": null,\n",
      "                \"submissionTime\": \"2013-08-07T16:54Z\",\n",
      "                \"link\": \"https://webtools.ccmc.gsfc.nasa.gov/DONKI/view/CMEAnalysis/2350/-1\",\n",
      "                \"enlilList\": [\n",
      "                    {\n",
      "                        \"modelCompletionTime\": \"2013-05-01T08:32Z\",\n",
      "                        \"au\": 2.0,\n",
      "                        \"estimatedShockArrivalTime\": null,\n",
      "                        \"estimatedDuration\": null,\n",
      "                        \"rmin_re\": null,\n",
      "                        \"kp_18\": null,\n",
      "                        \"kp_90\": null,\n",
      "                        \"kp_135\": null,\n",
      "                        \"kp_180\": null,\n",
      "                        \"isEarthGB\": false,\n",
      "                        \"link\": \"https://webtools.ccmc.gsfc.nasa.gov/DONKI/view/WSA-ENLIL/2348/-1\",\n",
      "                        \"impactList\": [\n",
      "                            {\n",
      "                                \"isGlancingBlow\": false,\n",
      "                                \"location\": \"STEREO B\",\n",
      "                                \"arrivalTime\": \"2013-05-04T06:16Z\"\n",
      "                            }\n",
      "                        ],\n",
      "                        \"cmeIDs\": [\n",
      "                            \"2013-05-01T03:12:00-CME-001\"\n",
      "                        ]\n",
      "                    }\n",
      "                ]\n",
      "            }\n",
      "        ],\n",
      "        \"linkedEvents\": [\n",
      "            {\n",
      "                \"activityID\": \"2013-05-04T04:52:00-IPS-001\"\n",
      "            }\n",
      "        ]\n",
      "    },\n",
      "    {\n",
      "        \"activityID\": \"2013-05-02T05:24:00-CME-001\",\n",
      "        \"catalog\": \"M2M_CATALOG\",\n",
      "        \"startTime\": \"2013-05-02T05:24Z\",\n",
      "        \"instruments\": [\n",
      "            {\n",
      "                \"displayName\": \"SOHO: LASCO/C2\"\n",
      "            },\n",
      "            {\n",
      "                \"displayName\": \"SOHO: LASCO/C3\"\n",
      "            },\n",
      "            {\n",
      "                \"displayName\": \"STEREO A: SECCHI/COR2\"\n",
      "            },\n",
      "            {\n",
      "                \"displayName\": \"STEREO B: SECCHI/COR2\"\n",
      "            }\n",
      "        ],\n",
      "        \"sourceLocation\": \"\",\n",
      "        \"activeRegionNum\": null,\n",
      "        \"note\": \"\",\n",
      "        \"submissionTime\": \"2013-08-07T16:56Z\",\n",
      "        \"versionId\": 1,\n",
      "        \"link\": \"https://webtools.ccmc.gsfc.nasa.gov/DONKI/view/CME/2352/-1\",\n",
      "        \"cmeAnalyses\": [\n",
      "            {\n",
      "                \"isMostAccurate\": true,\n",
      "                \"time21_5\": \"2013-05-02T13:30Z\",\n",
      "                \"latitude\": 56.0,\n",
      "                \"longitude\": 19.0,\n",
      "                \"halfAngle\": 28.0,\n",
      "                \"speed\": 395.0,\n",
      "                \"type\": \"S\",\n",
      "                \"featureCode\": \"null\",\n",
      "                \"imageType\": null,\n",
      "                \"measurementTechnique\": \"null\",\n",
      "                \"note\": \"\",\n",
      "                \"levelOfData\": 0,\n",
      "                \"tilt\": null,\n",
      "                \"minorHalfWidth\": null,\n",
      "                \"speedMeasuredAtHeight\": null,\n",
      "                \"submissionTime\": \"2013-08-07T16:56Z\",\n",
      "                \"link\": \"https://webtools.ccmc.gsfc.nasa.gov/DONKI/view/CMEAnalysis/2353/-1\",\n",
      "                \"enlilList\": [\n",
      "                    {\n",
      "                        \"modelCompletionTime\": \"2013-05-02T09:18Z\",\n",
      "                        \"au\": 2.0,\n",
      "                        \"estimatedShockArrivalTime\": null,\n",
      "                        \"estimatedDuration\": null,\n",
      "                        \"rmin_re\": null,\n",
      "                        \"kp_18\": null,\n",
      "                        \"kp_90\": null,\n",
      "                        \"kp_135\": null,\n",
      "                        \"kp_180\": null,\n",
      "                        \"isEarthGB\": false,\n",
      "                        \"link\": \"https://webtools.ccmc.gsfc.nasa.gov/DONKI/view/WSA-ENLIL/2351/-1\",\n",
      "                        \"impactList\": null,\n",
      "                        \"cmeIDs\": [\n",
      "                            \"2013-05-02T05:24:00-CME-001\"\n",
      "                        ]\n",
      "                    }\n",
      "                ]\n",
      "            }\n",
      "        ],\n",
      "        \"linkedEvents\": null\n",
      "    }\n",
      "]\n"
     ]
    }
   ],
   "source": [
    "# Check if the API request was successful\n",
    "if cme_response.status_code == 200:\n",
    "    # Convert the response to json and store it in cme_json\n",
    "    cme_json = cme_response.json()\n",
    "\n",
    "    # Print the first two entries in the JSON response\n",
    "    if len(cme_json) > 0:\n",
    "        print(json.dumps(cme_json[:2], indent=4))\n",
    "    else:\n",
    "        print(\"No data returned in the response.\")\n",
    "else:\n",
    "    print(f\"Error: Failed to retrieve data. Status code: {cme_response.status_code}\")"
   ]
  },
  {
   "cell_type": "code",
   "execution_count": 186,
   "metadata": {
    "scrolled": true
   },
   "outputs": [
    {
     "name": "stdout",
     "output_type": "stream",
     "text": [
      "First CME entry in JSON format:\n",
      "{\n",
      "    \"activityID\": \"2013-05-01T03:12:00-CME-001\",\n",
      "    \"catalog\": \"M2M_CATALOG\",\n",
      "    \"startTime\": \"2013-05-01T03:12Z\",\n",
      "    \"instruments\": [\n",
      "        {\n",
      "            \"displayName\": \"SOHO: LASCO/C2\"\n",
      "        },\n",
      "        {\n",
      "            \"displayName\": \"SOHO: LASCO/C3\"\n",
      "        },\n",
      "        {\n",
      "            \"displayName\": \"STEREO A: SECCHI/COR2\"\n",
      "        },\n",
      "        {\n",
      "            \"displayName\": \"STEREO B: SECCHI/COR2\"\n",
      "        }\n",
      "    ],\n",
      "    \"sourceLocation\": \"\",\n",
      "    \"activeRegionNum\": null,\n",
      "    \"note\": \"\",\n",
      "    \"submissionTime\": \"2013-08-07T16:54Z\",\n",
      "    \"versionId\": 1,\n",
      "    \"link\": \"https://webtools.ccmc.gsfc.nasa.gov/DONKI/view/CME/2349/-1\",\n",
      "    \"cmeAnalyses\": [\n",
      "        {\n",
      "            \"isMostAccurate\": true,\n",
      "            \"time21_5\": \"2013-05-01T07:07Z\",\n",
      "            \"latitude\": 12.0,\n",
      "            \"longitude\": -120.0,\n",
      "            \"halfAngle\": 36.0,\n",
      "            \"speed\": 860.0,\n",
      "            \"type\": \"C\",\n",
      "            \"featureCode\": \"null\",\n",
      "            \"imageType\": null,\n",
      "            \"measurementTechnique\": \"null\",\n",
      "            \"note\": \"\",\n",
      "            \"levelOfData\": 0,\n",
      "            \"tilt\": null,\n",
      "            \"minorHalfWidth\": null,\n",
      "            \"speedMeasuredAtHeight\": null,\n",
      "            \"submissionTime\": \"2013-08-07T16:54Z\",\n",
      "            \"link\": \"https://webtools.ccmc.gsfc.nasa.gov/DONKI/view/CMEAnalysis/2350/-1\",\n",
      "            \"enlilList\": [\n",
      "                {\n",
      "                    \"modelCompletionTime\": \"2013-05-01T08:32Z\",\n",
      "                    \"au\": 2.0,\n",
      "                    \"estimatedShockArrivalTime\": null,\n",
      "                    \"estimatedDuration\": null,\n",
      "                    \"rmin_re\": null,\n",
      "                    \"kp_18\": null,\n",
      "                    \"kp_90\": null,\n",
      "                    \"kp_135\": null,\n",
      "                    \"kp_180\": null,\n",
      "                    \"isEarthGB\": false,\n",
      "                    \"link\": \"https://webtools.ccmc.gsfc.nasa.gov/DONKI/view/WSA-ENLIL/2348/-1\",\n",
      "                    \"impactList\": [\n",
      "                        {\n",
      "                            \"isGlancingBlow\": false,\n",
      "                            \"location\": \"STEREO B\",\n",
      "                            \"arrivalTime\": \"2013-05-04T06:16Z\"\n",
      "                        }\n",
      "                    ],\n",
      "                    \"cmeIDs\": [\n",
      "                        \"2013-05-01T03:12:00-CME-001\"\n",
      "                    ]\n",
      "                }\n",
      "            ]\n",
      "        }\n",
      "    ],\n",
      "    \"linkedEvents\": [\n",
      "        {\n",
      "            \"activityID\": \"2013-05-04T04:52:00-IPS-001\"\n",
      "        }\n",
      "    ]\n",
      "}\n"
     ]
    }
   ],
   "source": [
    "# Preview the first result in JSON format\n",
    "if len(cme_json) > 0:\n",
    "    print(\"First CME entry in JSON format:\")\n",
    "    print(json.dumps(cme_json[0], indent=4))  # Print the first CME entry nicely formatted\n",
    "else:\n",
    "    print(\"No CME data available to display.\")"
   ]
  },
  {
   "cell_type": "code",
   "execution_count": 188,
   "metadata": {},
   "outputs": [
    {
     "name": "stdout",
     "output_type": "stream",
     "text": [
      "CME DataFrame with selected columns:\n",
      "                    activityID          startTime  \\\n",
      "0  2013-05-01T03:12:00-CME-001  2013-05-01T03:12Z   \n",
      "1  2013-05-02T05:24:00-CME-001  2013-05-02T05:24Z   \n",
      "2  2013-05-02T14:36:00-CME-001  2013-05-02T14:36Z   \n",
      "3  2013-05-03T18:00:00-CME-001  2013-05-03T18:00Z   \n",
      "4  2013-05-03T22:36:00-CME-001  2013-05-03T22:36Z   \n",
      "\n",
      "                                      linkedEvents  \n",
      "0  [{'activityID': '2013-05-04T04:52:00-IPS-001'}]  \n",
      "1                                             None  \n",
      "2                                             None  \n",
      "3                                             None  \n",
      "4  [{'activityID': '2013-05-07T04:37:00-IPS-001'}]  \n"
     ]
    }
   ],
   "source": [
    "# Convert cme_json to a Pandas DataFrame\n",
    "cme_df = pd.DataFrame(cme_json)\n",
    "\n",
    "# Keep only the columns: activityID, startTime, linkedEvents\n",
    "if not cme_df.empty:\n",
    "    cme_df = cme_df[['activityID', 'startTime', 'linkedEvents']]\n",
    "    print(\"CME DataFrame with selected columns:\")\n",
    "    print(cme_df.head())  # Print the first few rows to verify the DataFrame\n",
    "else:\n",
    "    print(\"No CME data to convert to DataFrame.\")"
   ]
  },
  {
   "cell_type": "code",
   "execution_count": 190,
   "metadata": {},
   "outputs": [
    {
     "name": "stdout",
     "output_type": "stream",
     "text": [
      "CME DataFrame after removing rows with missing 'linkedEvents':\n",
      "                     activityID          startTime  \\\n",
      "0   2013-05-01T03:12:00-CME-001  2013-05-01T03:12Z   \n",
      "4   2013-05-03T22:36:00-CME-001  2013-05-03T22:36Z   \n",
      "7   2013-05-09T19:29:00-CME-001  2013-05-09T19:29Z   \n",
      "10  2013-05-13T02:54:00-CME-001  2013-05-13T02:54Z   \n",
      "13  2013-05-13T16:18:00-CME-001  2013-05-13T16:18Z   \n",
      "\n",
      "                                         linkedEvents  \n",
      "0     [{'activityID': '2013-05-04T04:52:00-IPS-001'}]  \n",
      "4     [{'activityID': '2013-05-07T04:37:00-IPS-001'}]  \n",
      "7     [{'activityID': '2013-05-12T23:30:00-IPS-001'}]  \n",
      "10  [{'activityID': '2013-05-13T01:53:00-FLR-001'}...  \n",
      "13  [{'activityID': '2013-05-13T15:40:00-FLR-001'}...  \n"
     ]
    }
   ],
   "source": [
    "# Remove rows with missing 'linkedEvents'\n",
    "cme_df = cme_df[cme_df['linkedEvents'].notna()]\n",
    "\n",
    "print(\"CME DataFrame after removing rows with missing 'linkedEvents':\")\n",
    "print(cme_df.head())  # Print the first few rows to verify the DataFrame"
   ]
  },
  {
   "cell_type": "code",
   "execution_count": 192,
   "metadata": {},
   "outputs": [
    {
     "name": "stdout",
     "output_type": "stream",
     "text": [
      "Expanded CME DataFrame:\n",
      "                    activityID          startTime       linkedEvent_activityID\n",
      "0  2013-05-01T03:12:00-CME-001  2013-05-01T03:12Z  2013-05-04T04:52:00-IPS-001\n",
      "1  2013-05-03T22:36:00-CME-001  2013-05-03T22:36Z  2013-05-07T04:37:00-IPS-001\n",
      "2  2013-05-09T19:29:00-CME-001  2013-05-09T19:29Z  2013-05-12T23:30:00-IPS-001\n",
      "3  2013-05-13T02:54:00-CME-001  2013-05-13T02:54Z  2013-05-13T01:53:00-FLR-001\n",
      "4  2013-05-13T02:54:00-CME-001  2013-05-13T02:54Z  2013-05-13T04:12:00-SEP-001\n"
     ]
    }
   ],
   "source": [
    "# Initialize an empty list to store the expanded rows\n",
    "expanded_rows = []\n",
    "\n",
    "# Iterate over each index in the DataFrame\n",
    "for index, row in cme_df.iterrows():\n",
    "    # Iterate over each dictionary in the list 'linkedEvents'\n",
    "    for event in row['linkedEvents']:\n",
    "        # Append a new dictionary to the expanded_rows list for each dictionary item and corresponding 'activityID' and 'startTime' value\n",
    "        expanded_rows.append({\n",
    "            'activityID': row['activityID'],\n",
    "            'startTime': row['startTime'],\n",
    "            'linkedEvent_activityID': event['activityID'] if 'activityID' in event else None\n",
    "        })\n",
    "\n",
    "# Create a new DataFrame from the expanded rows\n",
    "expanded_cme_df = pd.DataFrame(expanded_rows)\n",
    "\n",
    "# Print the expanded DataFrame\n",
    "print(\"Expanded CME DataFrame:\")\n",
    "print(expanded_cme_df.head())"
   ]
  },
  {
   "cell_type": "code",
   "execution_count": 194,
   "metadata": {},
   "outputs": [
    {
     "name": "stdout",
     "output_type": "stream",
     "text": [
      "                    activityID          startTime GST_ActivityID\n",
      "0  2013-05-01T03:12:00-CME-001  2013-05-01T03:12Z           None\n",
      "1  2013-05-03T22:36:00-CME-001  2013-05-03T22:36Z           None\n",
      "2  2013-05-09T19:29:00-CME-001  2013-05-09T19:29Z           None\n",
      "3  2013-05-13T02:54:00-CME-001  2013-05-13T02:54Z           None\n",
      "4  2013-05-13T02:54:00-CME-001  2013-05-13T02:54Z           None\n"
     ]
    }
   ],
   "source": [
    "# Function to check if 'GST' is in the string and return the activityID\n",
    "def extract_activityID_from_string(event_str):\n",
    "    try:\n",
    "        # Check if 'GST' is in the string\n",
    "        if 'GST' in event_str:\n",
    "            return event_str\n",
    "        return None  # Return None if no GST event is found\n",
    "    except Exception as e:\n",
    "        print(f\"An error occurred: {e}\")\n",
    "        return None\n",
    "\n",
    "# Apply this function to each row in the 'linkedEvent_activityID' column (use apply() and a lambda function)\n",
    "expanded_cme_df['GST_ActivityID'] = expanded_cme_df['linkedEvent_activityID'].apply(lambda x: extract_activityID_from_string(x))\n",
    "\n",
    "# Verify the new column by printing the DataFrame with the added 'GST_ActivityID'\n",
    "print(expanded_cme_df[['activityID', 'startTime', 'GST_ActivityID']].head())"
   ]
  },
  {
   "cell_type": "code",
   "execution_count": 196,
   "metadata": {},
   "outputs": [
    {
     "name": "stdout",
     "output_type": "stream",
     "text": [
      "0    2013-05-04T04:52:00-IPS-001\n",
      "1    2013-05-07T04:37:00-IPS-001\n",
      "2    2013-05-12T23:30:00-IPS-001\n",
      "3    2013-05-13T01:53:00-FLR-001\n",
      "4    2013-05-13T04:12:00-SEP-001\n",
      "Name: linkedEvent_activityID, dtype: object\n",
      "<class 'str'>\n"
     ]
    }
   ],
   "source": [
    "# Print out the first few entries of the 'linkedEvent_activityID' column\n",
    "print(expanded_cme_df['linkedEvent_activityID'].head())\n",
    "\n",
    "# Check the type of the data in the 'linkedEvent_activityID' column for the first row\n",
    "print(type(expanded_cme_df['linkedEvent_activityID'].iloc[0]))"
   ]
  },
  {
   "cell_type": "code",
   "execution_count": 198,
   "metadata": {
    "scrolled": true
   },
   "outputs": [
    {
     "name": "stdout",
     "output_type": "stream",
     "text": [
      "                      activityID          startTime  \\\n",
      "21   2013-06-02T20:24:00-CME-001  2013-06-02T20:24Z   \n",
      "48   2013-09-29T22:40:00-CME-001  2013-09-29T22:40Z   \n",
      "90   2013-12-04T23:12:00-CME-001  2013-12-04T23:12Z   \n",
      "148  2014-02-16T14:15:00-CME-001  2014-02-16T14:15Z   \n",
      "151  2014-02-18T01:25:00-CME-001  2014-02-18T01:25Z   \n",
      "\n",
      "                  GST_ActivityID  \n",
      "21   2013-06-07T03:00:00-GST-001  \n",
      "48   2013-10-02T03:00:00-GST-001  \n",
      "90   2013-12-08T00:00:00-GST-001  \n",
      "148  2014-02-19T03:00:00-GST-001  \n",
      "151  2014-02-20T03:00:00-GST-001  \n"
     ]
    }
   ],
   "source": [
    "# Remove rows where 'GST_ActivityID' is missing (NaN or None)\n",
    "expanded_cme_df_cleaned = expanded_cme_df.dropna(subset=['GST_ActivityID'])\n",
    "\n",
    "# Verify that the rows with missing 'GST_ActivityID' have been removed\n",
    "print(expanded_cme_df_cleaned[['activityID', 'startTime', 'GST_ActivityID']].head())"
   ]
  },
  {
   "cell_type": "code",
   "execution_count": 200,
   "metadata": {},
   "outputs": [
    {
     "name": "stdout",
     "output_type": "stream",
     "text": [
      "activityID                object\n",
      "startTime                 object\n",
      "linkedEvent_activityID    object\n",
      "GST_ActivityID            object\n",
      "dtype: object\n"
     ]
    }
   ],
   "source": [
    "# Print the datatype of each column in the DataFrame\n",
    "print(expanded_cme_df_cleaned.dtypes)"
   ]
  },
  {
   "cell_type": "code",
   "execution_count": 202,
   "metadata": {},
   "outputs": [
    {
     "name": "stdout",
     "output_type": "stream",
     "text": [
      "Checking for missing values in 'GST_ActivityID':\n",
      "1653\n"
     ]
    }
   ],
   "source": [
    "# Check for null values in the GST_ActivityID column\n",
    "print(\"Checking for missing values in 'GST_ActivityID':\")\n",
    "print(expanded_cme_df['GST_ActivityID'].isnull().sum())"
   ]
  },
  {
   "cell_type": "code",
   "execution_count": 204,
   "metadata": {},
   "outputs": [
    {
     "name": "stdout",
     "output_type": "stream",
     "text": [
      "                      activityID          startTime  \\\n",
      "21   2013-06-02T20:24:00-CME-001  2013-06-02T20:24Z   \n",
      "48   2013-09-29T22:40:00-CME-001  2013-09-29T22:40Z   \n",
      "90   2013-12-04T23:12:00-CME-001  2013-12-04T23:12Z   \n",
      "148  2014-02-16T14:15:00-CME-001  2014-02-16T14:15Z   \n",
      "151  2014-02-18T01:25:00-CME-001  2014-02-18T01:25Z   \n",
      "\n",
      "                  GST_ActivityID  \n",
      "21   2013-06-07T03:00:00-GST-001  \n",
      "48   2013-10-02T03:00:00-GST-001  \n",
      "90   2013-12-08T00:00:00-GST-001  \n",
      "148  2014-02-19T03:00:00-GST-001  \n",
      "151  2014-02-20T03:00:00-GST-001  \n"
     ]
    }
   ],
   "source": [
    "# Keep only rows where 'GST_ActivityID' contains 'GST'\n",
    "expanded_cme_df_cleaned = expanded_cme_df[expanded_cme_df['GST_ActivityID'].str.contains('GST', na=False)]\n",
    "\n",
    "# Verify the DataFrame after filtering\n",
    "print(expanded_cme_df_cleaned[['activityID', 'startTime', 'GST_ActivityID']].head())"
   ]
  },
  {
   "cell_type": "markdown",
   "metadata": {},
   "source": [
    "## GST Data"
   ]
  },
  {
   "cell_type": "code",
   "execution_count": 206,
   "metadata": {},
   "outputs": [
    {
     "name": "stdout",
     "output_type": "stream",
     "text": [
      "Querying NASA API using URL: https://api.nasa.gov/DONKI/GST?startDate=2013-05-01&endDate=2024-05-01&api_key=CNkOx0yP9t09Nnqlvs1hGlV85FnIaa3W0hqe4JF2\n"
     ]
    }
   ],
   "source": [
    "# Set the base URL to NASA's DONKI API:\n",
    "base_url = \"https://api.nasa.gov/DONKI/\"\n",
    "\n",
    "# Set the specifier for Geomagnetic Storms (GST):\n",
    "GST = \"GST\"\n",
    "\n",
    "# Search for GSTs between a begin and end date\n",
    "startDate = \"2013-05-01\"\n",
    "endDate = \"2024-05-01\"\n",
    "\n",
    "# Build URL for GST\n",
    "gst_url = f\"{base_url}{GST}?startDate={startDate}&endDate={endDate}&api_key={NASA_API_KEY}\"\n",
    "\n",
    "# Print the URL to verify it's formatted correctly\n",
    "print(f\"Querying NASA API using URL: {gst_url}\")"
   ]
  },
  {
   "cell_type": "code",
   "execution_count": 208,
   "metadata": {},
   "outputs": [
    {
     "name": "stdout",
     "output_type": "stream",
     "text": [
      "GET request successful!\n"
     ]
    }
   ],
   "source": [
    "# Make a \"GET\" request for the GST URL and store the response in a variable named gst_response\n",
    "gst_response = requests.get(gst_url)\n",
    "\n",
    "# Check if the request was successful (status code 200)\n",
    "if gst_response.status_code == 200:\n",
    "    print(\"GET request successful!\")\n",
    "else:\n",
    "    print(f\"GET request failed with status code {gst_response.status_code}\")"
   ]
  },
  {
   "cell_type": "code",
   "execution_count": 210,
   "metadata": {},
   "outputs": [
    {
     "name": "stdout",
     "output_type": "stream",
     "text": [
      "Previewing first result from GST data in JSON format:\n",
      "{\n",
      "    \"gstID\": \"2013-06-01T01:00:00-GST-001\",\n",
      "    \"startTime\": \"2013-06-01T01:00Z\",\n",
      "    \"allKpIndex\": [\n",
      "        {\n",
      "            \"observedTime\": \"2013-06-01T01:00Z\",\n",
      "            \"kpIndex\": 6.0,\n",
      "            \"source\": \"NOAA\"\n",
      "        }\n",
      "    ],\n",
      "    \"link\": \"https://webtools.ccmc.gsfc.nasa.gov/DONKI/view/GST/326/-1\",\n",
      "    \"linkedEvents\": [\n",
      "        {\n",
      "            \"activityID\": \"2013-05-31T15:45:00-HSS-001\"\n",
      "        }\n",
      "    ],\n",
      "    \"submissionTime\": \"2013-07-15T19:26Z\",\n",
      "    \"versionId\": 1\n",
      "}\n"
     ]
    }
   ],
   "source": [
    "# Convert the response variable to JSON and store it as a variable named gst_json\n",
    "gst_json = gst_response.json()\n",
    "\n",
    "# Preview the first result in JSON format using json.dumps with indent=4 to format the data\n",
    "print(\"Previewing first result from GST data in JSON format:\")\n",
    "print(json.dumps(gst_json[0], indent=4))  # Printing the first entry in the JSON list"
   ]
  },
  {
   "cell_type": "code",
   "execution_count": 212,
   "metadata": {},
   "outputs": [
    {
     "name": "stdout",
     "output_type": "stream",
     "text": [
      "GST DataFrame (filtered):\n",
      "                         gstID          startTime  \\\n",
      "0  2013-06-01T01:00:00-GST-001  2013-06-01T01:00Z   \n",
      "1  2013-06-07T03:00:00-GST-001  2013-06-07T03:00Z   \n",
      "2  2013-06-29T03:00:00-GST-001  2013-06-29T03:00Z   \n",
      "3  2013-10-02T03:00:00-GST-001  2013-10-02T03:00Z   \n",
      "4  2013-12-08T00:00:00-GST-001  2013-12-08T00:00Z   \n",
      "\n",
      "                                        linkedEvents  \n",
      "0    [{'activityID': '2013-05-31T15:45:00-HSS-001'}]  \n",
      "1    [{'activityID': '2013-06-02T20:24:00-CME-001'}]  \n",
      "2                                               None  \n",
      "3  [{'activityID': '2013-09-29T22:40:00-CME-001'}...  \n",
      "4  [{'activityID': '2013-12-04T23:12:00-CME-001'}...  \n"
     ]
    }
   ],
   "source": [
    "# Convert gst_json to a Pandas DataFrame\n",
    "gst_df = pd.DataFrame(gst_json)\n",
    "\n",
    "# Keep only the columns: 'gstID', 'startTime', and 'linkedEvents'\n",
    "gst_df_filtered = gst_df[['gstID', 'startTime', 'linkedEvents']]\n",
    "\n",
    "# Preview the DataFrame\n",
    "print(\"GST DataFrame (filtered):\")\n",
    "print(gst_df_filtered.head())"
   ]
  },
  {
   "cell_type": "code",
   "execution_count": 214,
   "metadata": {},
   "outputs": [
    {
     "name": "stdout",
     "output_type": "stream",
     "text": [
      "GST DataFrame after removing rows with missing 'linkedEvents':\n",
      "                         gstID          startTime  \\\n",
      "0  2013-06-01T01:00:00-GST-001  2013-06-01T01:00Z   \n",
      "1  2013-06-07T03:00:00-GST-001  2013-06-07T03:00Z   \n",
      "3  2013-10-02T03:00:00-GST-001  2013-10-02T03:00Z   \n",
      "4  2013-12-08T00:00:00-GST-001  2013-12-08T00:00Z   \n",
      "5  2014-02-19T03:00:00-GST-001  2014-02-19T03:00Z   \n",
      "\n",
      "                                        linkedEvents  \n",
      "0    [{'activityID': '2013-05-31T15:45:00-HSS-001'}]  \n",
      "1    [{'activityID': '2013-06-02T20:24:00-CME-001'}]  \n",
      "3  [{'activityID': '2013-09-29T22:40:00-CME-001'}...  \n",
      "4  [{'activityID': '2013-12-04T23:12:00-CME-001'}...  \n",
      "5  [{'activityID': '2014-02-16T14:15:00-CME-001'}...  \n"
     ]
    }
   ],
   "source": [
    "# Remove rows where 'linkedEvents' is missing (None or NaN)\n",
    "gst_df_filtered_cleaned = gst_df_filtered.dropna(subset=['linkedEvents'])\n",
    "\n",
    "# Verify the DataFrame after removing rows with missing 'linkedEvents'\n",
    "print(\"GST DataFrame after removing rows with missing 'linkedEvents':\")\n",
    "print(gst_df_filtered_cleaned.head())"
   ]
  },
  {
   "cell_type": "code",
   "execution_count": 216,
   "metadata": {},
   "outputs": [
    {
     "name": "stdout",
     "output_type": "stream",
     "text": [
      "GST DataFrame after applying explode to 'linkedEvents':\n",
      "                         gstID          startTime  \\\n",
      "0  2013-06-01T01:00:00-GST-001  2013-06-01T01:00Z   \n",
      "1  2013-06-07T03:00:00-GST-001  2013-06-07T03:00Z   \n",
      "2  2013-10-02T03:00:00-GST-001  2013-10-02T03:00Z   \n",
      "3  2013-10-02T03:00:00-GST-001  2013-10-02T03:00Z   \n",
      "4  2013-10-02T03:00:00-GST-001  2013-10-02T03:00Z   \n",
      "\n",
      "                                    linkedEvents  \n",
      "0  {'activityID': '2013-05-31T15:45:00-HSS-001'}  \n",
      "1  {'activityID': '2013-06-02T20:24:00-CME-001'}  \n",
      "2  {'activityID': '2013-09-29T22:40:00-CME-001'}  \n",
      "3  {'activityID': '2013-10-02T01:54:00-IPS-001'}  \n",
      "4  {'activityID': '2013-10-02T02:47:00-MPC-001'}  \n",
      "GST DataFrame after dropping missing 'linkedEvents':\n",
      "                         gstID          startTime  \\\n",
      "0  2013-06-01T01:00:00-GST-001  2013-06-01T01:00Z   \n",
      "1  2013-06-07T03:00:00-GST-001  2013-06-07T03:00Z   \n",
      "2  2013-10-02T03:00:00-GST-001  2013-10-02T03:00Z   \n",
      "3  2013-10-02T03:00:00-GST-001  2013-10-02T03:00Z   \n",
      "4  2013-10-02T03:00:00-GST-001  2013-10-02T03:00Z   \n",
      "\n",
      "                                    linkedEvents  \n",
      "0  {'activityID': '2013-05-31T15:45:00-HSS-001'}  \n",
      "1  {'activityID': '2013-06-02T20:24:00-CME-001'}  \n",
      "2  {'activityID': '2013-09-29T22:40:00-CME-001'}  \n",
      "3  {'activityID': '2013-10-02T01:54:00-IPS-001'}  \n",
      "4  {'activityID': '2013-10-02T02:47:00-MPC-001'}  \n"
     ]
    }
   ],
   "source": [
    "# Explode the 'linkedEvents' column so that each event in the list gets its own row\n",
    "gst_df_exploded = gst_df_filtered_cleaned.explode('linkedEvents').reset_index(drop=True)\n",
    "\n",
    "# Verify the DataFrame after applying explode\n",
    "print(\"GST DataFrame after applying explode to 'linkedEvents':\")\n",
    "print(gst_df_exploded.head())\n",
    "\n",
    "# Drop any rows where 'linkedEvents' is now missing after explosion\n",
    "gst_df_exploded_cleaned = gst_df_exploded.dropna(subset=['linkedEvents'])\n",
    "\n",
    "# Verify the DataFrame after dropping rows with missing 'linkedEvents'\n",
    "print(\"GST DataFrame after dropping missing 'linkedEvents':\")\n",
    "print(gst_df_exploded_cleaned.head())"
   ]
  },
  {
   "cell_type": "code",
   "execution_count": 218,
   "metadata": {},
   "outputs": [
    {
     "name": "stdout",
     "output_type": "stream",
     "text": [
      "GST DataFrame with 'CME_ActivityID' column:\n",
      "                         gstID          startTime               CME_ActivityID\n",
      "0  2013-06-01T01:00:00-GST-001  2013-06-01T01:00Z  2013-05-31T15:45:00-HSS-001\n",
      "1  2013-06-07T03:00:00-GST-001  2013-06-07T03:00Z  2013-06-02T20:24:00-CME-001\n",
      "2  2013-10-02T03:00:00-GST-001  2013-10-02T03:00Z  2013-09-29T22:40:00-CME-001\n",
      "3  2013-10-02T03:00:00-GST-001  2013-10-02T03:00Z  2013-10-02T01:54:00-IPS-001\n",
      "4  2013-10-02T03:00:00-GST-001  2013-10-02T03:00Z  2013-10-02T02:47:00-MPC-001\n",
      "GST DataFrame after removing rows with missing 'CME_ActivityID':\n",
      "                         gstID          startTime               CME_ActivityID\n",
      "0  2013-06-01T01:00:00-GST-001  2013-06-01T01:00Z  2013-05-31T15:45:00-HSS-001\n",
      "1  2013-06-07T03:00:00-GST-001  2013-06-07T03:00Z  2013-06-02T20:24:00-CME-001\n",
      "2  2013-10-02T03:00:00-GST-001  2013-10-02T03:00Z  2013-09-29T22:40:00-CME-001\n",
      "3  2013-10-02T03:00:00-GST-001  2013-10-02T03:00Z  2013-10-02T01:54:00-IPS-001\n",
      "4  2013-10-02T03:00:00-GST-001  2013-10-02T03:00Z  2013-10-02T02:47:00-MPC-001\n",
      "(205, 4)\n"
     ]
    }
   ],
   "source": [
    "# Define a function to extract the 'activityID' from the 'linkedEvents' column, assuming it's a string\n",
    "def extract_activityID_from_string(event_str):\n",
    "    try:\n",
    "        # Check if 'GST' is in the string\n",
    "        if 'activityID' in event_str:\n",
    "            return event_str['activityID']\n",
    "        return None  # Return None if no activityID is found\n",
    "    except Exception as e:\n",
    "        print(f\"An error occurred: {e}\")\n",
    "        return None\n",
    "\n",
    "# Apply this function to each row in the 'linkedEvents' column (use apply() and a lambda function)\n",
    "gst_df_exploded_cleaned['CME_ActivityID'] = gst_df_exploded_cleaned['linkedEvents'].apply(lambda x: extract_activityID_from_string(x))\n",
    "\n",
    "# Verify the new column by printing the DataFrame with the added 'CME_ActivityID'\n",
    "print(\"GST DataFrame with 'CME_ActivityID' column:\")\n",
    "print(gst_df_exploded_cleaned[['gstID', 'startTime', 'CME_ActivityID']].head())\n",
    "\n",
    "# Remove rows where 'CME_ActivityID' is missing (NaN or None)\n",
    "gst_df_exploded_cleaned = gst_df_exploded_cleaned.dropna(subset=['CME_ActivityID'])\n",
    "\n",
    "# Verify that the rows with missing 'CME_ActivityID' have been removed\n",
    "print(\"GST DataFrame after removing rows with missing 'CME_ActivityID':\")\n",
    "print(gst_df_exploded_cleaned[['gstID', 'startTime', 'CME_ActivityID']].head())\n",
    "\n",
    "print(gst_df_exploded_cleaned.shape)\n"
   ]
  },
  {
   "cell_type": "code",
   "execution_count": 220,
   "metadata": {},
   "outputs": [
    {
     "name": "stdout",
     "output_type": "stream",
     "text": [
      "Inspecting 'linkedEvents' column:\n",
      "0    {'activityID': '2013-05-31T15:45:00-HSS-001'}\n",
      "1    {'activityID': '2013-06-02T20:24:00-CME-001'}\n",
      "2    {'activityID': '2013-09-29T22:40:00-CME-001'}\n",
      "3    {'activityID': '2013-10-02T01:54:00-IPS-001'}\n",
      "4    {'activityID': '2013-10-02T02:47:00-MPC-001'}\n",
      "5    {'activityID': '2013-12-04T23:12:00-CME-001'}\n",
      "6    {'activityID': '2013-12-07T21:30:00-HSS-001'}\n",
      "7    {'activityID': '2014-02-16T14:15:00-CME-001'}\n",
      "8    {'activityID': '2014-02-19T03:10:00-IPS-001'}\n",
      "9    {'activityID': '2014-02-18T01:25:00-CME-001'}\n",
      "Name: linkedEvents, dtype: object\n"
     ]
    }
   ],
   "source": [
    "# Print the first few entries of the 'linkedEvents' column to see its structure\n",
    "print(\"Inspecting 'linkedEvents' column:\")\n",
    "print(gst_df_exploded_cleaned['linkedEvents'].head(10))"
   ]
  },
  {
   "cell_type": "code",
   "execution_count": 222,
   "metadata": {},
   "outputs": [
    {
     "name": "stdout",
     "output_type": "stream",
     "text": [
      "                         gstID             startTime_GST  \\\n",
      "0  2013-06-01T01:00:00-GST-001 2013-06-01 01:00:00+00:00   \n",
      "1  2013-06-07T03:00:00-GST-001 2013-06-07 03:00:00+00:00   \n",
      "2  2013-10-02T03:00:00-GST-001 2013-10-02 03:00:00+00:00   \n",
      "3  2013-10-02T03:00:00-GST-001 2013-10-02 03:00:00+00:00   \n",
      "4  2013-10-02T03:00:00-GST-001 2013-10-02 03:00:00+00:00   \n",
      "\n",
      "                CME_ActivityID  \n",
      "0  2013-05-31T15:45:00-HSS-001  \n",
      "1  2013-06-02T20:24:00-CME-001  \n",
      "2  2013-09-29T22:40:00-CME-001  \n",
      "3  2013-10-02T01:54:00-IPS-001  \n",
      "4  2013-10-02T02:47:00-MPC-001  \n"
     ]
    }
   ],
   "source": [
    "# Convert the 'CME_ActivityID' column to string format\n",
    "gst_df_exploded_cleaned['CME_ActivityID'] = gst_df_exploded_cleaned['CME_ActivityID'].astype(str)\n",
    "\n",
    "# Convert the 'gstID' column to string format\n",
    "gst_df_exploded_cleaned['gstID'] = gst_df_exploded_cleaned['gstID'].astype(str)\n",
    "\n",
    "# Convert startTime to datetime format\n",
    "gst_df_exploded_cleaned['startTime'] = pd.to_datetime(gst_df_exploded_cleaned['startTime'])\n",
    "\n",
    "# Rename startTime to startTime_GST\n",
    "gst_df_exploded_cleaned.rename(columns={'startTime': 'startTime_GST'}, inplace=True)\n",
    "\n",
    "# Drop the linkedEvents column as it’s no longer needed\n",
    "gst_df_exploded_cleaned.drop(columns=['linkedEvents'], inplace=True)\n",
    "\n",
    "# Verify that all the steps were executed correctly\n",
    "print(gst_df_exploded_cleaned.head())"
   ]
  },
  {
   "cell_type": "code",
   "execution_count": 224,
   "metadata": {},
   "outputs": [
    {
     "name": "stdout",
     "output_type": "stream",
     "text": [
      "                         gstID             startTime_GST  \\\n",
      "1  2013-06-07T03:00:00-GST-001 2013-06-07 03:00:00+00:00   \n",
      "2  2013-10-02T03:00:00-GST-001 2013-10-02 03:00:00+00:00   \n",
      "5  2013-12-08T00:00:00-GST-001 2013-12-08 00:00:00+00:00   \n",
      "7  2014-02-19T03:00:00-GST-001 2014-02-19 03:00:00+00:00   \n",
      "9  2014-02-20T03:00:00-GST-001 2014-02-20 03:00:00+00:00   \n",
      "\n",
      "                CME_ActivityID  \n",
      "1  2013-06-02T20:24:00-CME-001  \n",
      "2  2013-09-29T22:40:00-CME-001  \n",
      "5  2013-12-04T23:12:00-CME-001  \n",
      "7  2014-02-16T14:15:00-CME-001  \n",
      "9  2014-02-18T01:25:00-CME-001  \n"
     ]
    }
   ],
   "source": [
    "# Keep only rows where the CME_ActivityID column contains 'CME'\n",
    "gst_df_exploded_cleaned = gst_df_exploded_cleaned[gst_df_exploded_cleaned['CME_ActivityID'].str.contains('CME', na=False)]\n",
    "\n",
    "# Verify the filtered DataFrame\n",
    "print(gst_df_exploded_cleaned.head())"
   ]
  },
  {
   "cell_type": "markdown",
   "metadata": {},
   "source": [
    "### Merge both datatsets"
   ]
  },
  {
   "cell_type": "code",
   "execution_count": 246,
   "metadata": {},
   "outputs": [
    {
     "name": "stdout",
     "output_type": "stream",
     "text": [
      "                         gstID             startTime_GST  \\\n",
      "0  2013-06-07T03:00:00-GST-001 2013-06-07 03:00:00+00:00   \n",
      "1  2013-10-02T03:00:00-GST-001 2013-10-02 03:00:00+00:00   \n",
      "2  2013-12-08T00:00:00-GST-001 2013-12-08 00:00:00+00:00   \n",
      "3  2014-02-19T03:00:00-GST-001 2014-02-19 03:00:00+00:00   \n",
      "4  2014-02-20T03:00:00-GST-001 2014-02-20 03:00:00+00:00   \n",
      "\n",
      "                CME_ActivityID                   activityID  \\\n",
      "0  2013-06-02T20:24:00-CME-001  2013-06-02T20:24:00-CME-001   \n",
      "1  2013-09-29T22:40:00-CME-001  2013-09-29T22:40:00-CME-001   \n",
      "2  2013-12-04T23:12:00-CME-001  2013-12-04T23:12:00-CME-001   \n",
      "3  2014-02-16T14:15:00-CME-001  2014-02-16T14:15:00-CME-001   \n",
      "4  2014-02-18T01:25:00-CME-001  2014-02-18T01:25:00-CME-001   \n",
      "\n",
      "           startTime       linkedEvent_activityID               GST_ActivityID  \n",
      "0  2013-06-02T20:24Z  2013-06-07T03:00:00-GST-001  2013-06-07T03:00:00-GST-001  \n",
      "1  2013-09-29T22:40Z  2013-10-02T03:00:00-GST-001  2013-10-02T03:00:00-GST-001  \n",
      "2  2013-12-04T23:12Z  2013-12-08T00:00:00-GST-001  2013-12-08T00:00:00-GST-001  \n",
      "3  2014-02-16T14:15Z  2014-02-19T03:00:00-GST-001  2014-02-19T03:00:00-GST-001  \n",
      "4  2014-02-18T01:25Z  2014-02-20T03:00:00-GST-001  2014-02-20T03:00:00-GST-001  \n"
     ]
    }
   ],
   "source": [
    "# Merge the datasets using 'CME_ActivityID' for GST DataFrame and 'activityID' for CME DataFrame\n",
    "merged_df = pd.merge(\n",
    "    gst_df_exploded_cleaned, \n",
    "    expanded_cme_df_cleaned, \n",
    "    left_on='CME_ActivityID', \n",
    "    right_on='activityID', \n",
    "    how='inner'\n",
    ")\n",
    "print(merged_df.head())"
   ]
  },
  {
   "cell_type": "code",
   "execution_count": 248,
   "metadata": {},
   "outputs": [
    {
     "name": "stdout",
     "output_type": "stream",
     "text": [
      "Number of rows in CME DataFrame: 61\n",
      "Number of rows in GST DataFrame: 61\n",
      "Number of rows in Merged DataFrame: 65\n"
     ]
    }
   ],
   "source": [
    "# Verify that the merge worked by printing the first few rows\n",
    "print(f\"Number of rows in CME DataFrame: {len(expanded_cme_df_cleaned)}\")\n",
    "print(f\"Number of rows in GST DataFrame: {len(gst_df_exploded_cleaned)}\")\n",
    "print(f\"Number of rows in Merged DataFrame: {len(merged_df)}\")"
   ]
  },
  {
   "cell_type": "markdown",
   "metadata": {},
   "source": [
    "### Computing the time it takes for a CME to cause a GST"
   ]
  },
  {
   "cell_type": "code",
   "execution_count": 250,
   "metadata": {},
   "outputs": [
    {
     "name": "stdout",
     "output_type": "stream",
     "text": [
      "              startTime_GST                 startTime        timeDiff\n",
      "0 2013-06-07 03:00:00+00:00 2013-06-02 20:24:00+00:00 4 days 06:36:00\n",
      "1 2013-10-02 03:00:00+00:00 2013-09-29 22:40:00+00:00 2 days 04:20:00\n",
      "2 2013-12-08 00:00:00+00:00 2013-12-04 23:12:00+00:00 3 days 00:48:00\n",
      "3 2014-02-19 03:00:00+00:00 2014-02-16 14:15:00+00:00 2 days 12:45:00\n",
      "4 2014-02-20 03:00:00+00:00 2014-02-18 01:25:00+00:00 2 days 01:35:00\n"
     ]
    }
   ],
   "source": [
    "# Convert 'startTime' to datetime format if it's not already\n",
    "merged_df['startTime'] = pd.to_datetime(merged_df['startTime'])\n",
    "\n",
    "# Now compute the time difference between 'startTime_GST' and 'startTime'\n",
    "merged_df['timeDiff'] = merged_df['startTime_GST'] - merged_df['startTime']\n",
    "\n",
    "# Verify the new column by printing the first few rows\n",
    "print(merged_df[['startTime_GST', 'startTime', 'timeDiff']].head())"
   ]
  },
  {
   "cell_type": "code",
   "execution_count": 252,
   "metadata": {},
   "outputs": [
    {
     "name": "stdout",
     "output_type": "stream",
     "text": [
      "Time difference statistics (in timedelta format):\n",
      "count                           65\n",
      "mean     2 days 21:52:44.307692307\n",
      "std      1 days 00:03:17.087890724\n",
      "min                1 days 08:36:00\n",
      "25%                2 days 03:12:00\n",
      "50%                2 days 17:48:00\n",
      "75%                3 days 12:22:00\n",
      "max                6 days 03:00:00\n",
      "Name: timeDiff, dtype: object\n",
      "\n",
      "Mean time difference (in hours): 69.87897435897436\n",
      "Median time difference (in hours): 65.8\n"
     ]
    }
   ],
   "source": [
    "# Use describe() to compute the mean and median time difference\n",
    "time_diff_stats = merged_df['timeDiff'].describe()\n",
    "\n",
    "# Print the full describe() statistics\n",
    "print(\"Time difference statistics (in timedelta format):\")\n",
    "print(time_diff_stats)\n",
    "\n",
    "# Convert the 'timeDiff' column to seconds for more detailed mean and median calculations\n",
    "merged_df['timeDiff_seconds'] = merged_df['timeDiff'].dt.total_seconds()\n",
    "\n",
    "# Compute the mean and median in hours\n",
    "mean_time_diff_hours = merged_df['timeDiff_seconds'].mean() / 3600\n",
    "median_time_diff_hours = merged_df['timeDiff_seconds'].median() / 3600\n",
    "\n",
    "print(f\"\\nMean time difference (in hours): {mean_time_diff_hours}\")\n",
    "print(f\"Median time difference (in hours): {median_time_diff_hours}\")"
   ]
  },
  {
   "cell_type": "markdown",
   "metadata": {},
   "source": [
    "### Exporting data in csv format"
   ]
  },
  {
   "cell_type": "code",
   "execution_count": 254,
   "metadata": {},
   "outputs": [
    {
     "name": "stdout",
     "output_type": "stream",
     "text": [
      "Data exported to 'cme_gst_analysis.csv' successfully!\n"
     ]
    }
   ],
   "source": [
    "# Export the merged DataFrame to a CSV file without the index\n",
    "merged_df.to_csv('cme_gst_analysis.csv', index=False)\n",
    "\n",
    "print(\"Data exported to 'cme_gst_analysis.csv' successfully!\")"
   ]
  },
  {
   "cell_type": "code",
   "execution_count": null,
   "metadata": {},
   "outputs": [],
   "source": []
  }
 ],
 "metadata": {
  "kernelspec": {
   "display_name": "Python 3 (ipykernel)",
   "language": "python",
   "name": "python3"
  },
  "language_info": {
   "codemirror_mode": {
    "name": "ipython",
    "version": 3
   },
   "file_extension": ".py",
   "mimetype": "text/x-python",
   "name": "python",
   "nbconvert_exporter": "python",
   "pygments_lexer": "ipython3",
   "version": "3.12.4"
  },
  "varInspector": {
   "cols": {
    "lenName": 16,
    "lenType": 16,
    "lenVar": 40
   },
   "kernels_config": {
    "python": {
     "delete_cmd_postfix": "",
     "delete_cmd_prefix": "del ",
     "library": "var_list.py",
     "varRefreshCmd": "print(var_dic_list())"
    },
    "r": {
     "delete_cmd_postfix": ") ",
     "delete_cmd_prefix": "rm(",
     "library": "var_list.r",
     "varRefreshCmd": "cat(var_dic_list()) "
    }
   },
   "types_to_exclude": [
    "module",
    "function",
    "builtin_function_or_method",
    "instance",
    "_Feature"
   ],
   "window_display": false
  }
 },
 "nbformat": 4,
 "nbformat_minor": 4
}
